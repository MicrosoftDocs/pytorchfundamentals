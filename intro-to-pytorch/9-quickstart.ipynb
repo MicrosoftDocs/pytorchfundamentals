{
 "cells": [
  {
   "cell_type": "code",
   "execution_count": 1,
   "metadata": {},
   "outputs": [],
   "source": [
    "%matplotlib inline"
   ]
  },
  {
   "cell_type": "markdown",
   "metadata": {},
   "source": [
    "Quickstart\n",
    "===================\n",
    "This section runs through the API for common tasks in machine learning. Refer to the links in each section to dive deeper.\n",
    "\n",
    "Working with data\n",
    "-----------------\n",
    "PyTorch has two [primitives to work with data](https://pytorch.org/docs/stable/data.html): \n",
    "``torch.utils.data.DataLoader`` and ``torch.utils.data.Dataset``.\n",
    "``Dataset`` stores the samples and their corresponding labels, and ``DataLoader`` wraps an iterable around\n",
    "the ``Dataset``.\n",
    "\n",
    "\n"
   ]
  },
  {
   "cell_type": "code",
   "execution_count": 2,
   "metadata": {},
   "outputs": [],
   "source": [
    "import torch\n",
    "from torch import nn\n",
    "from torch.utils.data import DataLoader\n",
    "from torchvision import datasets\n",
    "from torchvision.transforms import ToTensor, Lambda, Compose\n",
    "import matplotlib.pyplot as plt"
   ]
  },
  {
   "cell_type": "markdown",
   "metadata": {},
   "source": [
    "PyTorch offers domain-specific libraries such as [TorchText](https://pytorch.org/text/stable/index.html), \n",
    "[TorchVision](https://pytorch.org/vision/stable/index.html), and [TorchAudio](https://pytorch.org/audio/stable/index.html), \n",
    "all of which include datasets. For this tutorial, we  will be using a TorchVision dataset.\n",
    "\n",
    "The ``torchvision.datasets`` module contains ``Dataset`` objects for many real-world vision data like \n",
    "CIFAR, COCO ([full list here](https://pytorch.org/docs/stable/torchvision/datasets.html)). In this tutorial, we\n",
    "use the FashionMNIST dataset. Every TorchVision ``Dataset`` includes two arguments: ``transform`` and\n",
    "``target_transform`` to modify the samples and labels respectively.\n",
    "\n"
   ]
  },
  {
   "cell_type": "code",
   "execution_count": 3,
   "metadata": {},
   "outputs": [],
   "source": [
    "# Download training data from open datasets.\n",
    "training_data = datasets.FashionMNIST(\n",
    "    root=\"data\",\n",
    "    train=True,\n",
    "    download=True,\n",
    "    transform=ToTensor(),\n",
    ")\n",
    "\n",
    "# Download test data from open datasets.\n",
    "test_data = datasets.FashionMNIST(\n",
    "    root=\"data\",\n",
    "    train=False,\n",
    "    download=True,\n",
    "    transform=ToTensor(),\n",
    ")"
   ]
  },
  {
   "cell_type": "markdown",
   "metadata": {},
   "source": [
    "We pass the ``Dataset`` as an argument to ``DataLoader``. This wraps an iterable over our dataset, and supports\n",
    "automatic batching, sampling, shuffling and multiprocess data loading. Here we define a batch size of 64, i.e. each element \n",
    "in the dataloader iterable will return a batch of 64 features and labels.\n",
    "\n"
   ]
  },
  {
   "cell_type": "code",
   "execution_count": 4,
   "metadata": {},
   "outputs": [
    {
     "name": "stdout",
     "output_type": "stream",
     "text": [
      "Shape of X [N, C, H, W]:  torch.Size([64, 1, 28, 28])\n",
      "Shape of y:  torch.Size([64]) torch.int64\n"
     ]
    }
   ],
   "source": [
    "batch_size = 64\n",
    "\n",
    "# Create data loaders.\n",
    "train_dataloader = DataLoader(training_data, batch_size=batch_size)\n",
    "test_dataloader = DataLoader(test_data, batch_size=batch_size)\n",
    "\n",
    "for X, y in test_dataloader:\n",
    "    print(\"Shape of X [N, C, H, W]: \", X.shape)\n",
    "    print(\"Shape of y: \", y.shape, y.dtype)\n",
    "    break"
   ]
  },
  {
   "cell_type": "markdown",
   "metadata": {},
   "source": [
    "Creating Models\n",
    "------------------\n",
    "To define a neural network in PyTorch, we create a class that inherits \n",
    "from [nn.Module](https://pytorch.org/docs/stable/generated/torch.nn.Module.html). We define the layers of the network\n",
    "in the ``__init__`` function and specify how data will pass through the network in the ``forward`` function. To accelerate \n",
    "operations in the neural network, we move it to the GPU if available.\n",
    "\n"
   ]
  },
  {
   "cell_type": "code",
   "execution_count": 5,
   "metadata": {},
   "outputs": [
    {
     "name": "stdout",
     "output_type": "stream",
     "text": [
      "Using cuda device\n",
      "NeuralNetwork(\n",
      "  (flatten): Flatten()\n",
      "  (linear_relu_stack): Sequential(\n",
      "    (0): Linear(in_features=784, out_features=512, bias=True)\n",
      "    (1): ReLU()\n",
      "    (2): Linear(in_features=512, out_features=512, bias=True)\n",
      "    (3): ReLU()\n",
      "    (4): Linear(in_features=512, out_features=10, bias=True)\n",
      "    (5): ReLU()\n",
      "  )\n",
      ")\n"
     ]
    }
   ],
   "source": [
    "# Get cpu or gpu device for training.\n",
    "device = \"cuda\" if torch.cuda.is_available() else \"cpu\"\n",
    "print(\"Using {} device\".format(device))\n",
    "\n",
    "# Define model\n",
    "class NeuralNetwork(nn.Module):\n",
    "    def __init__(self):\n",
    "        super(NeuralNetwork, self).__init__()\n",
    "        self.flatten = nn.Flatten()\n",
    "        self.linear_relu_stack = nn.Sequential(\n",
    "            nn.Linear(28*28, 512),\n",
    "            nn.ReLU(),\n",
    "            nn.Linear(512, 512),\n",
    "            nn.ReLU(),\n",
    "            nn.Linear(512, 10),\n",
    "            nn.ReLU()\n",
    "        )\n",
    "\n",
    "    def forward(self, x):\n",
    "        x = self.flatten(x)\n",
    "        logits = self.linear_relu_stack(x)\n",
    "        return logits\n",
    "\n",
    "model = NeuralNetwork().to(device)\n",
    "print(model)"
   ]
  },
  {
   "cell_type": "markdown",
   "metadata": {},
   "source": [
    "Optimizing the Model Parameters\n",
    "----------------------------------------\n",
    "To train a model, we need a [loss function](https://pytorch.org/docs/stable/nn.html#loss-functions>)\n",
    "and an [optimizer](https://pytorch.org/docs/stable/optim.html). \n",
    "\n"
   ]
  },
  {
   "cell_type": "code",
   "execution_count": 6,
   "metadata": {},
   "outputs": [],
   "source": [
    "loss_fn = nn.CrossEntropyLoss()\n",
    "learning_rate = 1e-3\n",
    "optimizer = torch.optim.SGD(model.parameters(), lr=learning_rate)"
   ]
  },
  {
   "cell_type": "markdown",
   "metadata": {},
   "source": [
    "In a single training loop, the model makes predictions on the training dataset (fed to it in batches), and \n",
    "backpropagates the prediction error to adjust the model's parameters. \n",
    "\n"
   ]
  },
  {
   "cell_type": "code",
   "execution_count": 7,
   "metadata": {},
   "outputs": [],
   "source": [
    "def train(dataloader, model, loss_fn, optimizer):\n",
    "    size = len(dataloader.dataset)\n",
    "    for batch, (X, y) in enumerate(dataloader):\n",
    "        X, y = X.to(device), y.to(device)\n",
    "        \n",
    "        # Compute prediction error\n",
    "        pred = model(X)\n",
    "        loss = loss_fn(pred, y)\n",
    "        \n",
    "        # Backpropagation\n",
    "        optimizer.zero_grad()\n",
    "        loss.backward()\n",
    "        optimizer.step()\n",
    "\n",
    "        if batch % 100 == 0:\n",
    "            loss, current = loss.item(), batch * len(X)\n",
    "            print(f\"loss: {loss:>7f}  [{current:>5d}/{size:>5d}]\")"
   ]
  },
  {
   "cell_type": "markdown",
   "metadata": {},
   "source": [
    "We also check the model's performance against the test dataset to ensure it is learning.\n",
    "\n"
   ]
  },
  {
   "cell_type": "code",
   "execution_count": 8,
   "metadata": {},
   "outputs": [],
   "source": [
    "def test(dataloader, model):\n",
    "    size = len(dataloader.dataset)\n",
    "    model.eval()\n",
    "    test_loss, correct = 0, 0\n",
    "    with torch.no_grad():\n",
    "        for X, y in dataloader:\n",
    "            X, y = X.to(device), y.to(device)\n",
    "            pred = model(X)\n",
    "            test_loss += loss_fn(pred, y).item()\n",
    "            correct += (pred.argmax(1) == y).type(torch.float).sum().item()\n",
    "    test_loss /= size\n",
    "    correct /= size\n",
    "    print(f\"Test Error: \\n Accuracy: {(100*correct):>0.1f}%, Avg loss: {test_loss:>8f} \\n\")"
   ]
  },
  {
   "cell_type": "markdown",
   "metadata": {},
   "source": [
    "The training process is conducted over several iterations (*epochs*). During each epoch, the model learns \n",
    "parameters to make better predictions. We print the model's accuracy and loss at each epoch; we'd like to see the\n",
    "accuracy increase and the loss decrease with every epoch.\n",
    "\n"
   ]
  },
  {
   "cell_type": "code",
   "execution_count": 9,
   "metadata": {},
   "outputs": [
    {
     "name": "stdout",
     "output_type": "stream",
     "text": [
      "Epoch 1\n",
      "-------------------------------\n",
      "loss: 2.295450  [    0/60000]\n",
      "loss: 2.293073  [ 6400/60000]\n",
      "loss: 2.278504  [12800/60000]\n",
      "loss: 2.282501  [19200/60000]\n",
      "loss: 2.273211  [25600/60000]\n",
      "loss: 2.258452  [32000/60000]\n",
      "loss: 2.248237  [38400/60000]\n",
      "loss: 2.228594  [44800/60000]\n",
      "loss: 2.240276  [51200/60000]\n",
      "loss: 2.221318  [57600/60000]\n",
      "Test Error: \n",
      " Accuracy: 51.8%, Avg loss: 0.034745 \n",
      "\n",
      "Epoch 2\n",
      "-------------------------------\n",
      "loss: 2.212354  [    0/60000]\n",
      "loss: 2.207739  [ 6400/60000]\n",
      "loss: 2.160400  [12800/60000]\n",
      "loss: 2.176181  [19200/60000]\n",
      "loss: 2.168270  [25600/60000]\n",
      "loss: 2.146453  [32000/60000]\n",
      "loss: 2.119934  [38400/60000]\n",
      "loss: 2.083791  [44800/60000]\n",
      "loss: 2.126453  [51200/60000]\n",
      "loss: 2.077550  [57600/60000]\n",
      "Test Error: \n",
      " Accuracy: 53.2%, Avg loss: 0.032452 \n",
      "\n",
      "Epoch 3\n",
      "-------------------------------\n",
      "loss: 2.082280  [    0/60000]\n",
      "loss: 2.068733  [ 6400/60000]\n",
      "loss: 1.965958  [12800/60000]\n",
      "loss: 1.997126  [19200/60000]\n",
      "loss: 2.002057  [25600/60000]\n",
      "loss: 1.967370  [32000/60000]\n",
      "loss: 1.910595  [38400/60000]\n",
      "loss: 1.849006  [44800/60000]\n",
      "loss: 1.944741  [51200/60000]\n",
      "loss: 1.861265  [57600/60000]\n",
      "Test Error: \n",
      " Accuracy: 51.6%, Avg loss: 0.028937 \n",
      "\n",
      "Epoch 4\n",
      "-------------------------------\n",
      "loss: 1.872628  [    0/60000]\n",
      "loss: 1.844543  [ 6400/60000]\n",
      "loss: 1.710179  [12800/60000]\n",
      "loss: 1.779804  [19200/60000]\n",
      "loss: 1.737971  [25600/60000]\n",
      "loss: 1.746953  [32000/60000]\n",
      "loss: 1.624768  [38400/60000]\n",
      "loss: 1.575720  [44800/60000]\n",
      "loss: 1.742827  [51200/60000]\n",
      "loss: 1.653375  [57600/60000]\n",
      "Test Error: \n",
      " Accuracy: 58.4%, Avg loss: 0.025570 \n",
      "\n",
      "Epoch 5\n",
      "-------------------------------\n",
      "loss: 1.662315  [    0/60000]\n",
      "loss: 1.636235  [ 6400/60000]\n",
      "loss: 1.508407  [12800/60000]\n",
      "loss: 1.606842  [19200/60000]\n",
      "loss: 1.560728  [25600/60000]\n",
      "loss: 1.606024  [32000/60000]\n",
      "loss: 1.426900  [38400/60000]\n",
      "loss: 1.406240  [44800/60000]\n",
      "loss: 1.619918  [51200/60000]\n",
      "loss: 1.521326  [57600/60000]\n",
      "Test Error: \n",
      " Accuracy: 61.2%, Avg loss: 0.023459 \n",
      "\n",
      "Epoch 6\n",
      "-------------------------------\n",
      "loss: 1.527535  [    0/60000]\n",
      "loss: 1.511209  [ 6400/60000]\n",
      "loss: 1.377129  [12800/60000]\n",
      "loss: 1.494889  [19200/60000]\n",
      "loss: 1.457990  [25600/60000]\n",
      "loss: 1.502333  [32000/60000]\n",
      "loss: 1.291539  [38400/60000]\n",
      "loss: 1.285098  [44800/60000]\n",
      "loss: 1.484891  [51200/60000]\n",
      "loss: 1.414015  [57600/60000]\n",
      "Test Error: \n",
      " Accuracy: 62.2%, Avg loss: 0.021480 \n",
      "\n",
      "Epoch 7\n",
      "-------------------------------\n",
      "loss: 1.376779  [    0/60000]\n",
      "loss: 1.384830  [ 6400/60000]\n",
      "loss: 1.230116  [12800/60000]\n",
      "loss: 1.382574  [19200/60000]\n",
      "loss: 1.255630  [25600/60000]\n",
      "loss: 1.396211  [32000/60000]\n",
      "loss: 1.157718  [38400/60000]\n",
      "loss: 1.186382  [44800/60000]\n",
      "loss: 1.340606  [51200/60000]\n",
      "loss: 1.321607  [57600/60000]\n",
      "Test Error: \n",
      " Accuracy: 62.8%, Avg loss: 0.019737 \n",
      "\n",
      "Epoch 8\n",
      "-------------------------------\n",
      "loss: 1.243344  [    0/60000]\n",
      "loss: 1.279124  [ 6400/60000]\n",
      "loss: 1.121769  [12800/60000]\n",
      "loss: 1.293069  [19200/60000]\n",
      "loss: 1.128232  [25600/60000]\n",
      "loss: 1.315465  [32000/60000]\n",
      "loss: 1.069528  [38400/60000]\n",
      "loss: 1.123324  [44800/60000]\n",
      "loss: 1.243827  [51200/60000]\n",
      "loss: 1.255190  [57600/60000]\n",
      "Test Error: \n",
      " Accuracy: 63.4%, Avg loss: 0.018518 \n",
      "\n",
      "Epoch 9\n",
      "-------------------------------\n",
      "loss: 1.154148  [    0/60000]\n",
      "loss: 1.205280  [ 6400/60000]\n",
      "loss: 1.046463  [12800/60000]\n",
      "loss: 1.229866  [19200/60000]\n",
      "loss: 1.048813  [25600/60000]\n",
      "loss: 1.254785  [32000/60000]\n",
      "loss: 1.010614  [38400/60000]\n",
      "loss: 1.077114  [44800/60000]\n",
      "loss: 1.176766  [51200/60000]\n",
      "loss: 1.206567  [57600/60000]\n",
      "Test Error: \n",
      " Accuracy: 64.3%, Avg loss: 0.017640 \n",
      "\n",
      "Epoch 10\n",
      "-------------------------------\n",
      "loss: 1.090360  [    0/60000]\n",
      "loss: 1.149150  [ 6400/60000]\n",
      "loss: 0.990786  [12800/60000]\n",
      "loss: 1.183704  [19200/60000]\n",
      "loss: 0.997114  [25600/60000]\n",
      "loss: 1.207199  [32000/60000]\n",
      "loss: 0.967512  [38400/60000]\n",
      "loss: 1.043431  [44800/60000]\n",
      "loss: 1.127000  [51200/60000]\n",
      "loss: 1.169639  [57600/60000]\n",
      "Test Error: \n",
      " Accuracy: 65.3%, Avg loss: 0.016974 \n",
      "\n",
      "Epoch 11\n",
      "-------------------------------\n",
      "loss: 1.041194  [    0/60000]\n",
      "loss: 1.104409  [ 6400/60000]\n",
      "loss: 0.947670  [12800/60000]\n",
      "loss: 1.149421  [19200/60000]\n",
      "loss: 0.960403  [25600/60000]\n",
      "loss: 1.169899  [32000/60000]\n",
      "loss: 0.935149  [38400/60000]\n",
      "loss: 1.018250  [44800/60000]\n",
      "loss: 1.088222  [51200/60000]\n",
      "loss: 1.139813  [57600/60000]\n",
      "Test Error: \n",
      " Accuracy: 66.2%, Avg loss: 0.016446 \n",
      "\n",
      "Epoch 12\n",
      "-------------------------------\n",
      "loss: 1.000646  [    0/60000]\n",
      "loss: 1.067356  [ 6400/60000]\n",
      "loss: 0.912046  [12800/60000]\n",
      "loss: 1.122742  [19200/60000]\n",
      "loss: 0.932827  [25600/60000]\n",
      "loss: 1.138785  [32000/60000]\n",
      "loss: 0.910242  [38400/60000]\n",
      "loss: 0.999010  [44800/60000]\n",
      "loss: 1.056596  [51200/60000]\n",
      "loss: 1.114582  [57600/60000]\n",
      "Test Error: \n",
      " Accuracy: 67.5%, Avg loss: 0.016011 \n",
      "\n",
      "Epoch 13\n",
      "-------------------------------\n",
      "loss: 0.966393  [    0/60000]\n",
      "loss: 1.035691  [ 6400/60000]\n",
      "loss: 0.881672  [12800/60000]\n",
      "loss: 1.100845  [19200/60000]\n",
      "loss: 0.910265  [25600/60000]\n",
      "loss: 1.112597  [32000/60000]\n",
      "loss: 0.889558  [38400/60000]\n",
      "loss: 0.982751  [44800/60000]\n",
      "loss: 1.029199  [51200/60000]\n",
      "loss: 1.092738  [57600/60000]\n",
      "Test Error: \n",
      " Accuracy: 68.5%, Avg loss: 0.015636 \n",
      "\n",
      "Epoch 14\n",
      "-------------------------------\n",
      "loss: 0.936334  [    0/60000]\n",
      "loss: 1.007734  [ 6400/60000]\n",
      "loss: 0.854663  [12800/60000]\n",
      "loss: 1.081601  [19200/60000]\n",
      "loss: 0.890581  [25600/60000]\n",
      "loss: 1.089641  [32000/60000]\n",
      "loss: 0.872057  [38400/60000]\n",
      "loss: 0.969192  [44800/60000]\n",
      "loss: 1.005193  [51200/60000]\n",
      "loss: 1.073098  [57600/60000]\n",
      "Test Error: \n",
      " Accuracy: 69.4%, Avg loss: 0.015304 \n",
      "\n",
      "Epoch 15\n",
      "-------------------------------\n",
      "loss: 0.908971  [    0/60000]\n",
      "loss: 0.982067  [ 6400/60000]\n",
      "loss: 0.830095  [12800/60000]\n",
      "loss: 1.064921  [19200/60000]\n",
      "loss: 0.874204  [25600/60000]\n",
      "loss: 1.069008  [32000/60000]\n",
      "loss: 0.856447  [38400/60000]\n",
      "loss: 0.957340  [44800/60000]\n",
      "loss: 0.983547  [51200/60000]\n",
      "loss: 1.055251  [57600/60000]\n",
      "Test Error: \n",
      " Accuracy: 70.3%, Avg loss: 0.015001 \n",
      "\n",
      "Done!\n"
     ]
    }
   ],
   "source": [
    "epochs = 15\n",
    "for t in range(epochs):\n",
    "    print(f\"Epoch {t+1}\\n-------------------------------\")\n",
    "    train(train_dataloader, model, loss_fn, optimizer)\n",
    "    test(test_dataloader, model)\n",
    "print(\"Done!\")"
   ]
  },
  {
   "cell_type": "markdown",
   "metadata": {},
   "source": [
    "The accuracy will initially not be very good (that's ok!). Try running the loop for more `epochs` or adjusting the `learning_rate` to a bigger number. It might also be the case that the model configuration we chose might not be the optimal one for this kind of problem (it isn't). Later courses will delve more into the model shapes that work for vision problems."
   ]
  },
  {
   "cell_type": "markdown",
   "metadata": {},
   "source": [
    "Saving Models\n",
    "-------------\n",
    "A common way to save a model is to serialize the internal state dictionary (containing the model parameters).\n",
    "\n"
   ]
  },
  {
   "cell_type": "code",
   "execution_count": 10,
   "metadata": {},
   "outputs": [
    {
     "name": "stdout",
     "output_type": "stream",
     "text": [
      "Saved PyTorch Model State to model.pth\n"
     ]
    }
   ],
   "source": [
    "torch.save(model.state_dict(), \"data/model.pth\")\n",
    "print(\"Saved PyTorch Model State to model.pth\")"
   ]
  },
  {
   "cell_type": "markdown",
   "metadata": {},
   "source": [
    "Loading Models\n",
    "----------------------------\n",
    "\n",
    "The process for loading a model includes re-creating the model structure and loading\n",
    "the state dictionary into it. \n",
    "\n"
   ]
  },
  {
   "cell_type": "code",
   "execution_count": 11,
   "metadata": {},
   "outputs": [
    {
     "data": {
      "text/plain": [
       "<All keys matched successfully>"
      ]
     },
     "execution_count": 11,
     "metadata": {},
     "output_type": "execute_result"
    }
   ],
   "source": [
    "model = NeuralNetwork()\n",
    "model.load_state_dict(torch.load(\"data/model.pth\"))"
   ]
  },
  {
   "cell_type": "markdown",
   "metadata": {},
   "source": [
    "This model can now be used to make predictions.\n",
    "\n"
   ]
  },
  {
   "cell_type": "code",
   "execution_count": 12,
   "metadata": {},
   "outputs": [
    {
     "name": "stdout",
     "output_type": "stream",
     "text": [
      "Predicted: \"Ankle boot\", Actual: \"Ankle boot\"\n"
     ]
    }
   ],
   "source": [
    "classes = [\n",
    "    \"T-shirt/top\",\n",
    "    \"Trouser\",\n",
    "    \"Pullover\",\n",
    "    \"Dress\",\n",
    "    \"Coat\",\n",
    "    \"Sandal\",\n",
    "    \"Shirt\",\n",
    "    \"Sneaker\",\n",
    "    \"Bag\",\n",
    "    \"Ankle boot\",\n",
    "]\n",
    "\n",
    "model.eval()\n",
    "x, y = test_data[0][0], test_data[0][1]\n",
    "with torch.no_grad():\n",
    "    pred = model(x)\n",
    "    predicted, actual = classes[pred[0].argmax(0)], classes[y]\n",
    "    print(f'Predicted: \"{predicted}\", Actual: \"{actual}\"')"
   ]
  },
  {
   "cell_type": "code",
   "execution_count": null,
   "metadata": {},
   "outputs": [],
   "source": []
  }
 ],
 "metadata": {
  "kernelspec": {
   "name": "conda-env-py37_pytorch-py",
   "display_name": "py37_pytorch",
   "language": "python"
  },
  "language_info": {
   "codemirror_mode": {
    "name": "ipython",
    "version": 3
   },
   "file_extension": ".py",
   "mimetype": "text/x-python",
   "name": "python",
   "nbconvert_exporter": "python",
   "pygments_lexer": "ipython3",
   "version": "3.7.9"
  }
 },
 "nbformat": 4,
 "nbformat_minor": 1
}
